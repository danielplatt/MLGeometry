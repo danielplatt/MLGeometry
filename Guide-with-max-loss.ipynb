{
 "cells": [
  {
   "cell_type": "markdown",
   "metadata": {},
   "source": [
    "# MLGeometry guide"
   ]
  },
  {
   "cell_type": "markdown",
   "metadata": {},
   "source": [
    "This introduction demonstrates how to use MLGeometry to: \n",
    "1. Generate a hypersurface.\n",
    "2. Build a bihomogeneous neural network.\n",
    "3. Use the model to compute numerical Calabi-Yau metrics with the embedding method.\n",
    "4. Plot $\\eta$ on a rational curve."
   ]
  },
  {
   "cell_type": "markdown",
   "metadata": {},
   "source": [
    "## Configure imports"
   ]
  },
  {
   "cell_type": "markdown",
   "metadata": {},
   "source": [
    "Import tensorflow_probability to use the L-BFGS optimizer:"
   ]
  },
  {
   "cell_type": "code",
   "execution_count": 47,
   "metadata": {},
   "outputs": [],
   "source": [
    "import sympy as sp\n",
    "import tensorflow as tf\n",
    "import tensorflow.python.keras.backend as K\n",
    "import tensorflow_probability as tfp"
   ]
  },
  {
   "cell_type": "code",
   "execution_count": 48,
   "metadata": {},
   "outputs": [],
   "source": [
    "import MLGeometry as mlg\n",
    "from MLGeometry import bihomoNN as bnn"
   ]
  },
  {
   "cell_type": "markdown",
   "metadata": {},
   "source": [
    "Import the libraries to plot the $\\eta$ on the rational curve (see the last section):"
   ]
  },
  {
   "cell_type": "code",
   "execution_count": 49,
   "metadata": {},
   "outputs": [],
   "source": [
    "import math\n",
    "import numpy as np\n",
    "import matplotlib.pyplot as plt\n",
    "from mpl_toolkits.mplot3d import Axes3D"
   ]
  },
  {
   "cell_type": "markdown",
   "metadata": {},
   "source": [
    "## Set a random seed (optional)\n",
    "Some random seed might be bad for numerical calulations. If there are any errors during the training, you may want to try a different seed."
   ]
  },
  {
   "cell_type": "code",
   "execution_count": 50,
   "metadata": {},
   "outputs": [],
   "source": [
    "np.random.seed(2)\n",
    "tf.random.set_seed(2)"
   ]
  },
  {
   "cell_type": "markdown",
   "metadata": {},
   "source": [
    "## Define a hypersurface\n",
    "First define a set of coordinates and a function as sympy symbols:"
   ]
  },
  {
   "cell_type": "code",
   "execution_count": 51,
   "metadata": {},
   "outputs": [],
   "source": [
    "z0, z1, z2, z3, z4 = sp.symbols('z0, z1, z2, z3, z4')\n",
    "Z = [z0,z1,z2,z3,z4]\n",
    "f = z0**5 + z1**5 + z2**5 + z3**5 + z4**5"
   ]
  },
  {
   "cell_type": "markdown",
   "metadata": {},
   "source": [
    "Then define a hypersurface as a collection of points which solve the equation f = 0, using the `Hypersurface` class in the `mlg.hypersurface` module. The parameter n_pairs is the number of random pairs of points used to form the random lines in $\\mathbf{CP}^{N+1}$. Then we take the intersections of those random lines and the hypersurface. By Bezout's theorem, each line intersects the hypersurface in precisely d points where d is the number of homogeneous coordinates. So the total number of points is d * n_pairs."
   ]
  },
  {
   "cell_type": "code",
   "execution_count": 52,
   "metadata": {},
   "outputs": [],
   "source": [
    "n_pairs = 10000\n",
    "HS_train = mlg.hypersurface.Hypersurface(Z, f, n_pairs)\n",
    "HS_test = mlg.hypersurface.Hypersurface(Z, f, n_pairs)"
   ]
  },
  {
   "cell_type": "markdown",
   "metadata": {},
   "source": [
    "The Hypersurface class will take care of the patchwork automatically. Let's use the `list_patches` function to check the number of points on each patch:"
   ]
  },
  {
   "cell_type": "code",
   "execution_count": 53,
   "metadata": {},
   "outputs": [
    {
     "name": "stdout",
     "output_type": "stream",
     "text": [
      "Number of Patches: 5\n",
      "Points on patch 1 : 9916\n",
      "Points on patch 2 : 10014\n",
      "Points on patch 3 : 10089\n",
      "Points on patch 4 : 10130\n",
      "Points on patch 5 : 9851\n"
     ]
    }
   ],
   "source": [
    "HS_train.list_patches()"
   ]
  },
  {
   "cell_type": "markdown",
   "metadata": {},
   "source": [
    "You can also invoke this method on one of the patches to check the distribution on the subpatches:"
   ]
  },
  {
   "cell_type": "code",
   "execution_count": 54,
   "metadata": {},
   "outputs": [
    {
     "name": "stdout",
     "output_type": "stream",
     "text": [
      "Number of Patches: 4\n",
      "Points on patch 1 : 2499\n",
      "Points on patch 2 : 2474\n",
      "Points on patch 3 : 2510\n",
      "Points on patch 4 : 2433\n"
     ]
    }
   ],
   "source": [
    "HS_train.patches[0].list_patches()"
   ]
  },
  {
   "cell_type": "markdown",
   "metadata": {},
   "source": [
    "The Hypersurface class contains some symbolic and numerical methods as well, which will be introduced elsewhere. "
   ]
  },
  {
   "cell_type": "markdown",
   "metadata": {},
   "source": [
    "## Training with Tensorflow\n",
    "The following steps are similar to a regular Tensorflow training process. \n",
    "### Generate datasets\n",
    "The `mlg.tf_dataset.generate_dataset` function converts a hypersurface to a Tensorflow Dataset, which has four componets: the points on the hypersurface, the volume form $\\small \\Omega \\wedge \\bar\\Omega$, the mass reweighting the points distribution and the restriction which restricts the Kähler metric to a subpatch. The restriction contains an extra linear transformation so that points on different affine patches can all be processed in one call. It is also possible to generate a dataset only on one affine patch. "
   ]
  },
  {
   "cell_type": "code",
   "execution_count": 55,
   "metadata": {},
   "outputs": [],
   "source": [
    "train_set = mlg.tf_dataset.generate_dataset(HS_train)\n",
    "test_set = mlg.tf_dataset.generate_dataset(HS_test)"
   ]
  },
  {
   "cell_type": "markdown",
   "metadata": {},
   "source": [
    "Shuffle and batch the datasets:"
   ]
  },
  {
   "cell_type": "code",
   "execution_count": 56,
   "metadata": {},
   "outputs": [],
   "source": [
    "train_set = train_set.shuffle(HS_train.n_points).batch(1000)\n",
    "test_set = test_set.shuffle(HS_test.n_points).batch(1000)"
   ]
  },
  {
   "cell_type": "markdown",
   "metadata": {},
   "source": [
    "Let's look at what is inside a dataset:"
   ]
  },
  {
   "cell_type": "code",
   "execution_count": 57,
   "metadata": {
    "scrolled": true
   },
   "outputs": [
    {
     "name": "stdout",
     "output_type": "stream",
     "text": [
      "tf.Tensor(\n",
      "[[ 0.80762416+5.8595783e-01j -0.2046299 +4.2526782e-01j\n",
      "  -0.27987286-2.9970634e-01j  1.        +0.0000000e+00j\n",
      "   0.02055173+2.8625596e-01j]\n",
      " [ 0.2214398 -4.7619096e-03j -0.8837117 +1.2649949e-02j\n",
      "   0.09670468-1.9736986e-01j  0.68551564+5.1580006e-01j\n",
      "   1.        +0.0000000e+00j]\n",
      " [-0.02905042+8.7372251e-03j  0.55520564+5.6939960e-01j\n",
      "  -0.35768172-8.9537370e-01j  0.47331655-1.5804677e-01j\n",
      "   1.        -0.0000000e+00j]\n",
      " ...\n",
      " [-0.6318614 +1.4737147e-01j  0.5048313 +3.0021727e-01j\n",
      "  -0.4256937 -1.5699993e-01j -0.27833492-9.3904191e-01j\n",
      "   1.        -0.0000000e+00j]\n",
      " [-0.37161765-9.2468965e-01j  1.        -3.8581511e-18j\n",
      "   0.12969138+6.5817344e-01j  0.77068365-3.3978808e-01j\n",
      "   0.51064616-1.0733059e-01j]\n",
      " [-0.88928723+1.4012744e-01j  0.5028839 +3.1952298e-01j\n",
      "   1.        -0.0000000e+00j -0.44867373+8.2935357e-01j\n",
      "  -0.36833343-5.8387405e-01j]], shape=(1000, 5), dtype=complex64)\n"
     ]
    }
   ],
   "source": [
    "points, Omega_Omegabar, mass, restriction = next(iter(train_set))\n",
    "print(points)"
   ]
  },
  {
   "cell_type": "markdown",
   "metadata": {},
   "source": [
    "### Build a bihomogeneous neural network"
   ]
  },
  {
   "cell_type": "markdown",
   "metadata": {},
   "source": [
    "The `mlg.bihomoNN` module provides the necessary layers (e.g. `Bihomogeneous` and `Dense` ) to construct the Kähler potential with a bihomogeneous neural network. Here is an example of a two-hidden-layer network (k = 4) with 70 and 100 hidden units:"
   ]
  },
  {
   "cell_type": "code",
   "execution_count": 58,
   "metadata": {},
   "outputs": [],
   "source": [
    "class Kahler_potential(tf.keras.Model):\n",
    "    def __init__(self):\n",
    "        super(Kahler_potential, self).__init__()\n",
    "        # The first layer transforms the complex points to the bihomogeneous form.\n",
    "        # The number of the outputs is d^2, where d is the number of coordinates.\n",
    "        self.bihomogeneous = bnn.Bihomogeneous(d=5)\n",
    "        self.layer1 = bnn.Dense(5**2, 70, activation=tf.square)\n",
    "        self.layer2 = bnn.Dense(70, 100, activation=tf.square)\n",
    "        self.layer3 = bnn.Dense(100, 1)\n",
    "    \n",
    "    def call(self, inputs):\n",
    "        x = self.bihomogeneous(inputs)\n",
    "        x = self.layer1(x)\n",
    "        x = self.layer2(x)\n",
    "        x = self.layer3(x)\n",
    "        x = tf.math.log(x)\n",
    "        return x"
   ]
  },
  {
   "cell_type": "code",
   "execution_count": 59,
   "metadata": {},
   "outputs": [],
   "source": [
    "model = Kahler_potential()"
   ]
  },
  {
   "cell_type": "markdown",
   "metadata": {},
   "source": [
    "Define the Kähler metric $g_{i \\bar j} = \\partial_i\\bar\\partial_{\\bar j} K$ and the volume form $d\\mu_g = \\det g_{i \\bar j}$:"
   ]
  },
  {
   "cell_type": "code",
   "execution_count": 60,
   "metadata": {},
   "outputs": [],
   "source": [
    "@tf.function\n",
    "def volume_form(points, Omega_Omegabar, mass, restriction):\n",
    "    \n",
    "    kahler_metric = mlg.complex_math.complex_hessian(tf.math.real(model(points)), points)\n",
    "    volume_form = tf.matmul(restriction, tf.matmul(kahler_metric, restriction, adjoint_b=True))\n",
    "    volume_form = tf.math.real(tf.linalg.det(volume_form))\n",
    "    \n",
    "    # Calculate the normalization constant to make the overall integration as 1\n",
    "    # It is a batchwise calculation but we expect it to converge to a constant eventually\n",
    "    weights = mass / tf.reduce_sum(mass)\n",
    "    factor = tf.reduce_sum(weights * volume_form / Omega_Omegabar)\n",
    "    \n",
    "    return volume_form / factor"
   ]
  },
  {
   "cell_type": "markdown",
   "metadata": {},
   "source": [
    "### Train the model with Adam and L-BFGS\n",
    "#### Adam\n",
    "Setup the keras optmizer as `Adam` and the loss function as one of weighted loss in the `mlg.loss` module. Some available functions are `weighted_MAPE`, `weighted_MSE`, `max_error` and `MAPE_plus_max_error`. They are weighted with the mass formula since the points on the hypersurface are distributed according to the Fubini-Study measure while the measure used in the integration is determined by the volume form $\\small \\Omega \\wedge \\bar\\Omega$."
   ]
  },
  {
   "cell_type": "code",
   "execution_count": 61,
   "metadata": {},
   "outputs": [],
   "source": [
    "optimizer = tf.keras.optimizers.Adam()\n",
    "loss_func = mlg.loss.weighted_MAPE"
   ]
  },
  {
   "cell_type": "markdown",
   "metadata": {},
   "source": [
    "Loop over the batches and train the network:"
   ]
  },
  {
   "cell_type": "code",
   "execution_count": 62,
   "metadata": {
    "scrolled": true
   },
   "outputs": [
    {
     "name": "stdout",
     "output_type": "stream",
     "text": [
      "epoch 50: loss = 0.43853\n",
      "epoch 100: loss = 0.11986\n",
      "epoch 150: loss = 0.05326\n",
      "epoch 200: loss = 0.05053\n",
      "epoch 250: loss = 0.04337\n",
      "epoch 300: loss = 0.00789\n",
      "epoch 350: loss = 0.00697\n",
      "epoch 400: loss = 0.00694\n",
      "epoch 450: loss = 0.00720\n",
      "epoch 500: loss = 0.00706\n"
     ]
    }
   ],
   "source": [
    "max_epochs = 500\n",
    "epoch = 0\n",
    "while epoch < max_epochs:\n",
    "    epoch = epoch + 1\n",
    "    for step, (points, Omega_Omegabar, mass, restriction) in enumerate(train_set):\n",
    "        with tf.GradientTape() as tape:\n",
    "            det_omega = volume_form(points, Omega_Omegabar, mass, restriction)\n",
    "            loss = loss_func(Omega_Omegabar, det_omega, mass)\n",
    "            grads = tape.gradient(loss, model.trainable_weights)\n",
    "        optimizer.apply_gradients(zip(grads, model.trainable_weights))\n",
    "    if epoch % 50 == 0:\n",
    "        print(\"epoch %d: loss = %.5f\" % (epoch, loss))"
   ]
  },
  {
   "cell_type": "markdown",
   "metadata": {},
   "source": [
    "Let's check the loss of the test dataset. First define a function to calculate the total loss over the whole dataset:"
   ]
  },
  {
   "cell_type": "code",
   "execution_count": 63,
   "metadata": {},
   "outputs": [],
   "source": [
    "def cal_total_loss(dataset, loss_function):\n",
    "    total_loss = tf.constant(0, dtype=tf.float32)\n",
    "    total_mass = tf.constant(0, dtype=tf.float32)\n",
    "    \n",
    "    for step, (points, Omega_Omegabar, mass, restriction) in enumerate(dataset):\n",
    "        det_omega = volume_form(points, Omega_Omegabar, mass, restriction)\n",
    "        mass_sum = tf.reduce_sum(mass)\n",
    "        total_loss += loss_function(Omega_Omegabar, det_omega, mass) * mass_sum\n",
    "        total_mass += mass_sum\n",
    "    total_loss = total_loss / total_mass\n",
    "\n",
    "    return total_loss.numpy()\n",
    "\n",
    "def cal_max_loss(dataset):\n",
    "    max_loss = tf.constant(0, dtype=tf.float32)\n",
    "    total_loss = tf.constant(0, dtype=tf.float32)\n",
    "    total_mass = tf.constant(0, dtype=tf.float32)\n",
    "    \n",
    "    for step, (points, Omega_Omegabar, mass, restriction) in enumerate(dataset):\n",
    "        det_omega = volume_form(points, Omega_Omegabar, mass, restriction)\n",
    "        batch_max = tf.reduce_max(K.abs(Omega_Omegabar - det_omega))\n",
    "        max_loss = tf.math.maximum(max_loss, batch_max)\n",
    "        \n",
    "        mass_sum = tf.reduce_sum(mass)\n",
    "        total_mass += mass_sum\n",
    "        \n",
    "    return max_loss, total_mass"
   ]
  },
  {
   "cell_type": "markdown",
   "metadata": {},
   "source": [
    "Check the results of MAPE and MSE and max loss:"
   ]
  },
  {
   "cell_type": "code",
   "execution_count": 64,
   "metadata": {},
   "outputs": [
    {
     "name": "stdout",
     "output_type": "stream",
     "text": [
      "sigma_test = 0.00707\n",
      "E_test = 0.00010\n",
      "max loss=0.008226972073316574\n",
      "total volume=1.8238965272903442\n",
      "Normalised max=0.0045300316996872425\n"
     ]
    }
   ],
   "source": [
    "sigma_test = cal_total_loss(test_set, mlg.loss.weighted_MAPE)\n",
    "E_test = cal_total_loss(test_set, mlg.loss.weighted_MSE)\n",
    "print(\"sigma_test = %.5f\" % sigma_test)\n",
    "print(\"E_test = %.5f\" % E_test)\n",
    "\n",
    "print(f'max loss={cal_max_loss(test_set)[0]}')\n",
    "print(f'total volume={cal_max_loss(test_set)[1]/(5*n_pairs)}')\n",
    "print(f'Normalised max={cal_max_loss(test_set)[0]/(cal_max_loss(test_set)[1]/(5*n_pairs))}')"
   ]
  },
  {
   "cell_type": "markdown",
   "metadata": {},
   "source": [
    "You can also check the error of the Monte Carlo integration, estimated by: \n",
    "\n",
    "$$\\delta \\sigma = \\frac{1}{\\sqrt{N_p}} {\\left( \\int_X (|\\eta - 1_X| - \\sigma)^2 d\\mu_{\\Omega}\\right)}^{1/2},$$\n",
    "\n",
    "where $N_p$ is the number of points on the hypersurface and $\\sigma$ is the `weighted_MAPE` loss, and \n",
    "\n",
    "$$\\eta = \\frac{\\det \\omega}{\\small \\Omega \\wedge \\bar \\Omega}$$"
   ]
  },
  {
   "cell_type": "code",
   "execution_count": 65,
   "metadata": {},
   "outputs": [
    {
     "name": "stdout",
     "output_type": "stream",
     "text": [
      "delta_simga = 0.00005\n"
     ]
    }
   ],
   "source": [
    "def delta_sigma_square_test(y_true, y_pred, mass):\n",
    "    weights = mass / K.sum(mass)\n",
    "    return K.sum((K.abs(y_true - y_pred) / y_true - sigma_test)**2 * weights)\n",
    "\n",
    "delta_sigma = cal_total_loss(test_set, delta_sigma_square_test)\n",
    "print(\"delta_simga = %.5f\" % delta_sigma)"
   ]
  },
  {
   "cell_type": "markdown",
   "metadata": {},
   "source": [
    "#### Save and Load\n",
    "The trained network can be saved by:"
   ]
  },
  {
   "cell_type": "code",
   "execution_count": 66,
   "metadata": {},
   "outputs": [
    {
     "name": "stdout",
     "output_type": "stream",
     "text": [
      "INFO:tensorflow:Assets written to: trained_model/70_100_1/assets\n"
     ]
    },
    {
     "name": "stderr",
     "output_type": "stream",
     "text": [
      "INFO:tensorflow:Assets written to: trained_model/70_100_1/assets\n",
      "WARNING:absl:<MLGeometry.bihomoNN.Dense object at 0x7fc7c46b8e80> has the same name 'Dense' as a built-in Keras object. Consider renaming <class 'MLGeometry.bihomoNN.Dense'> to avoid naming conflicts when loading with `tf.keras.models.load_model`. If renaming is not possible, pass the object in the `custom_objects` parameter of the load function.\n",
      "WARNING:absl:<MLGeometry.bihomoNN.Dense object at 0x7fc7c46baaa0> has the same name 'Dense' as a built-in Keras object. Consider renaming <class 'MLGeometry.bihomoNN.Dense'> to avoid naming conflicts when loading with `tf.keras.models.load_model`. If renaming is not possible, pass the object in the `custom_objects` parameter of the load function.\n",
      "WARNING:absl:<MLGeometry.bihomoNN.Dense object at 0x7fc7c46b9ba0> has the same name 'Dense' as a built-in Keras object. Consider renaming <class 'MLGeometry.bihomoNN.Dense'> to avoid naming conflicts when loading with `tf.keras.models.load_model`. If renaming is not possible, pass the object in the `custom_objects` parameter of the load function.\n"
     ]
    }
   ],
   "source": [
    "model.save('trained_model/70_100_1')"
   ]
  },
  {
   "cell_type": "markdown",
   "metadata": {},
   "source": [
    "And loaded by the `load_model` method:"
   ]
  },
  {
   "cell_type": "code",
   "execution_count": 67,
   "metadata": {},
   "outputs": [],
   "source": [
    "#model = tf.keras.models.load_model('trained_model/70_100_1', compile=False)"
   ]
  },
  {
   "cell_type": "markdown",
   "metadata": {},
   "source": [
    "#### L-BFGS\n",
    "As elaborated in our paper, when the network getting more complicated, L-BFGS converges faster than Adam near the minima. It is recommanded to use it after pretraining with Adam. However, L-BFGS is not in the standard Tensorflow library so the training process is slightly different: (Only ~20 iterations are shown here. In a real case you may want to set the `max_epochs` to ~1000)"
   ]
  },
  {
   "cell_type": "code",
   "execution_count": 68,
   "metadata": {},
   "outputs": [
    {
     "name": "stdout",
     "output_type": "stream",
     "text": [
      "Iter: 1 loss: 0.00700516626\n",
      "Iter: 2 loss: 1.98779297\n",
      "Iter: 3 loss: 0.766455591\n",
      "Iter: 4 loss: 0.0453626364\n",
      "Iter: 5 loss: 0.0122156749\n",
      "Iter: 6 loss: 0.00665285904\n",
      "Iter: 7 loss: 0.00626079\n",
      "Iter: 8 loss: 0.00920675695\n",
      "Iter: 9 loss: 0.00625040056\n",
      "Iter: 10 loss: 0.00612382963\n",
      "Iter: 11 loss: 0.00613628235\n",
      "Iter: 12 loss: 0.00602696091\n",
      "Iter: 13 loss: 0.00594617287\n",
      "Iter: 14 loss: 0.00620626658\n",
      "Iter: 15 loss: 0.00592252612\n",
      "Iter: 16 loss: 0.0058701206\n",
      "Iter: 17 loss: 0.00601791963\n",
      "Iter: 18 loss: 0.00585523574\n",
      "Iter: 19 loss: 0.005828097\n",
      "Iter: 20 loss: 0.00623617973\n",
      "Iter: 21 loss: 0.00582748884\n",
      "Iter: 22 loss: 0.00581409\n",
      "Iter: 23 loss: 0.00581166893\n",
      "Iter: 24 loss: 0.00580492\n",
      "Iter: 25 loss: 0.00579302851\n",
      "Iter: 26 loss: 0.00585940434\n",
      "Iter: 27 loss: 0.00578969717\n",
      "Iter: 28 loss: 0.00578353228\n",
      "Iter: 29 loss: 0.00578250317\n",
      "Iter: 30 loss: 0.00578159094\n",
      "Iter: 31 loss: 0.00577903725\n",
      "Iter: 32 loss: 0.00577739207\n",
      "Iter: 33 loss: 0.00577139063\n",
      "Iter: 34 loss: 0.00579271698\n",
      "Iter: 35 loss: 0.00576991029\n",
      "Iter: 36 loss: 0.00576831773\n",
      "Iter: 37 loss: 0.00576692028\n",
      "Iter: 38 loss: 0.00576327369\n",
      "Iter: 39 loss: 0.00577161508\n",
      "Iter: 40 loss: 0.00576287927\n",
      "Iter: 41 loss: 0.00576206204\n",
      "Iter: 42 loss: 0.00576477\n",
      "Iter: 43 loss: 0.00575844431\n",
      "Iter: 44 loss: 0.00575826271\n",
      "Iter: 45 loss: 0.00575634465\n",
      "Iter: 46 loss: 0.00575610204\n",
      "Iter: 47 loss: 0.0057532941\n",
      "Iter: 48 loss: 0.0057695955\n",
      "Iter: 49 loss: 0.00575419795\n",
      "Iter: 50 loss: 0.00575352367\n",
      "Iter: 51 loss: 0.00575731043\n",
      "Iter: 52 loss: 0.00575379701\n",
      "Iter: 53 loss: 0.00575319724\n",
      "Iter: 54 loss: 0.00575273857\n",
      "Iter: 55 loss: 0.00575288711\n",
      "Iter: 56 loss: 0.00575126661\n",
      "Iter: 57 loss: 0.00575203774\n",
      "Iter: 58 loss: 0.00575028826\n",
      "Iter: 59 loss: 0.00574973086\n",
      "Iter: 60 loss: 0.00574942911\n",
      "Iter: 61 loss: 0.00574947568\n",
      "Iter: 62 loss: 0.00574846147\n",
      "Iter: 63 loss: 0.00574903423\n",
      "Iter: 64 loss: 0.00574983517\n",
      "Iter: 65 loss: 0.00574950362\n",
      "Iter: 66 loss: 0.00574949291\n",
      "Iter: 67 loss: 0.00574850896\n",
      "Iter: 68 loss: 0.00575161958\n",
      "Iter: 69 loss: 0.00574891688\n",
      "Iter: 70 loss: 0.00574706448\n",
      "Iter: 71 loss: 0.00575098442\n",
      "Iter: 72 loss: 0.00574831897\n",
      "Iter: 73 loss: 0.0057495269\n",
      "Iter: 74 loss: 0.00575004844\n",
      "Iter: 75 loss: 0.00574943377\n",
      "Iter: 76 loss: 0.00574872876\n",
      "Iter: 77 loss: 0.00574971596\n",
      "Iter: 78 loss: 0.00575102773\n",
      "Iter: 79 loss: 0.00574759534\n",
      "Iter: 80 loss: 0.00574893923\n",
      "Iter: 81 loss: 0.00574856065\n",
      "Iter: 82 loss: 0.00574911619\n",
      "Iter: 83 loss: 0.00574873295\n",
      "Iter: 84 loss: 0.00574813737\n",
      "Iter: 85 loss: 0.00574948685\n",
      "Iter: 86 loss: 0.00575007917\n",
      "Iter: 87 loss: 0.00574821141\n",
      "Iter: 88 loss: 0.00574786356\n",
      "Iter: 89 loss: 0.00574647821\n",
      "Iter: 90 loss: 0.00575089874\n",
      "Iter: 91 loss: 0.00574624771\n",
      "Iter: 92 loss: 0.00574650802\n",
      "Iter: 93 loss: 0.00574552268\n",
      "Iter: 94 loss: 0.00574655831\n",
      "Iter: 95 loss: 0.00574618485\n",
      "Iter: 96 loss: 0.00574662676\n",
      "Iter: 97 loss: 0.00574843958\n",
      "Iter: 98 loss: 0.00574600324\n",
      "Iter: 99 loss: 0.00574484561\n",
      "Iter: 100 loss: 0.00574553339\n",
      "Iter: 101 loss: 0.00574509287\n",
      "Iter: 102 loss: 0.00574495783\n",
      "Iter: 103 loss: 0.00574523024\n",
      "Iter: 104 loss: 0.00574605726\n",
      "Iter: 105 loss: 0.00574715389\n",
      "Iter: 106 loss: 0.00574623747\n",
      "Iter: 107 loss: 0.00574590173\n",
      "Iter: 108 loss: 0.00574632082\n",
      "Iter: 109 loss: 0.00574691\n",
      "Iter: 110 loss: 0.00574648939\n",
      "Iter: 111 loss: 0.00574577646\n",
      "Iter: 112 loss: 0.00574624166\n",
      "Iter: 113 loss: 0.00574610848\n",
      "Iter: 114 loss: 0.00574422488\n",
      "Iter: 115 loss: 0.00574588077\n",
      "Iter: 116 loss: 0.00574566657\n",
      "Iter: 117 loss: 0.00574529637\n",
      "Iter: 118 loss: 0.00574467331\n",
      "Iter: 119 loss: 0.00575063564\n",
      "Iter: 120 loss: 0.00574569544\n",
      "Iter: 121 loss: 0.00574322185\n",
      "Iter: 122 loss: 0.00574487587\n",
      "Iter: 123 loss: 0.00574372895\n",
      "Iter: 124 loss: 0.00574393151\n",
      "Iter: 125 loss: 0.00574491406\n",
      "Iter: 126 loss: 0.00574546354\n",
      "Iter: 127 loss: 0.00574558647\n",
      "Iter: 128 loss: 0.00574460905\n",
      "Iter: 129 loss: 0.00574480789\n",
      "Iter: 130 loss: 0.00574445492\n",
      "Iter: 131 loss: 0.00574453129\n",
      "Iter: 132 loss: 0.0057430896\n",
      "Iter: 133 loss: 0.00574559672\n",
      "Iter: 134 loss: 0.00574268354\n",
      "Iter: 135 loss: 0.00574712781\n",
      "Iter: 136 loss: 0.00574531918\n",
      "Iter: 137 loss: 0.00574674318\n",
      "Iter: 138 loss: 0.0057454207\n",
      "Iter: 139 loss: 0.00574525446\n",
      "Iter: 140 loss: 0.00574462442\n",
      "Iter: 141 loss: 0.00574504351\n",
      "Iter: 142 loss: 0.00574563397\n",
      "Iter: 143 loss: 0.00574635854\n",
      "Iter: 144 loss: 0.00574605027\n",
      "Iter: 145 loss: 0.00574489729\n",
      "Iter: 146 loss: 0.00574596738\n",
      "Iter: 147 loss: 0.00574500067\n",
      "Iter: 148 loss: 0.00574497879\n",
      "Iter: 149 loss: 0.00574385654\n",
      "Iter: 150 loss: 0.0057450654\n",
      "Iter: 151 loss: 0.0057446952\n",
      "Iter: 152 loss: 0.00574562512\n",
      "Iter: 153 loss: 0.00574539136\n",
      "Iter: 154 loss: 0.00574576436\n",
      "Iter: 155 loss: 0.00574445026\n",
      "Iter: 156 loss: 0.00574419508\n",
      "Iter: 157 loss: 0.00574450567\n",
      "Iter: 158 loss: 0.00574400648\n",
      "Iter: 159 loss: 0.00574468635\n",
      "Iter: 160 loss: 0.00574536249\n",
      "Iter: 161 loss: 0.00574406469\n",
      "Iter: 162 loss: 0.00574547099\n",
      "Iter: 163 loss: 0.00574332755\n",
      "Iter: 164 loss: 0.00574575365\n",
      "Iter: 165 loss: 0.00574336154\n",
      "Iter: 166 loss: 0.00574717298\n",
      "Iter: 167 loss: 0.00574496854\n",
      "Iter: 168 loss: 0.00574475713\n",
      "Iter: 169 loss: 0.00574416621\n",
      "Iter: 170 loss: 0.00574571872\n",
      "Iter: 171 loss: 0.00574455271\n",
      "Iter: 172 loss: 0.00574358273\n",
      "Iter: 173 loss: 0.00574618531\n",
      "Iter: 174 loss: 0.00574514782\n",
      "Iter: 175 loss: 0.00574493082\n",
      "Iter: 176 loss: 0.00574504072\n",
      "Iter: 177 loss: 0.00574359437\n",
      "Iter: 178 loss: 0.00574694108\n",
      "Iter: 179 loss: 0.00574480975\n",
      "Iter: 180 loss: 0.00574496854\n",
      "Iter: 181 loss: 0.00574431056\n",
      "Iter: 182 loss: 0.00574195944\n",
      "Iter: 183 loss: 0.00574454665\n",
      "Iter: 184 loss: 0.00574594876\n",
      "Iter: 185 loss: 0.00574599\n",
      "Iter: 186 loss: 0.00574457459\n",
      "Iter: 187 loss: 0.00574472034\n",
      "Iter: 188 loss: 0.00574497227\n",
      "Iter: 189 loss: 0.00574374478\n",
      "Iter: 190 loss: 0.00574338948\n",
      "Iter: 191 loss: 0.0057450477\n",
      "Iter: 192 loss: 0.00574469\n",
      "Iter: 193 loss: 0.00574484747\n",
      "Iter: 194 loss: 0.00574311893\n",
      "Iter: 195 loss: 0.00574336154\n",
      "Iter: 196 loss: 0.00574594596\n",
      "Iter: 197 loss: 0.00574296806\n",
      "Iter: 198 loss: 0.00574475108\n",
      "Iter: 199 loss: 0.00574701885\n",
      "Iter: 200 loss: 0.00574464677\n",
      "Iter: 201 loss: 0.00574510125\n",
      "Iter: 202 loss: 0.00574372848\n",
      "Iter: 203 loss: 0.00574573269\n",
      "Iter: 204 loss: 0.00574419\n",
      "Iter: 205 loss: 0.00574590359\n",
      "Iter: 206 loss: 0.00574502116\n"
     ]
    }
   ],
   "source": [
    "# The displayed max_epochs will be three to four times this value since iter + 1 everytime the function\n",
    "# is invoked, which also happens during the evaluation of the function itself and its gradient\n",
    "max_epochs = 1000\n",
    "\n",
    "# Setup the function to be optimized by L-BFGS\n",
    "\n",
    "train_func = mlg.lbfgs.function_factory(model, loss_func, train_set)\n",
    "\n",
    "# Setup the inital values and train\n",
    "init_params = tf.dynamic_stitch(train_func.idx, model.trainable_variables)\n",
    "results = tfp.optimizer.lbfgs_minimize(value_and_gradients_function=train_func,\n",
    "                                        initial_position=init_params,\n",
    "                                        max_iterations=max_epochs)\n",
    "# Update the model after the last loop\n",
    "train_func.assign_new_model_parameters(results.position)"
   ]
  },
  {
   "cell_type": "markdown",
   "metadata": {},
   "source": [
    "Note that the definition of the volume form is already in the `mlg.lbfgs` module. Also note that the standard L-BFGS does not support multi-batch training. You can still batch the dataset in case the GPU is out of memory, but the parameters are only updated after a whole epoch. "
   ]
  },
  {
   "cell_type": "markdown",
   "metadata": {},
   "source": [
    "You can also check the test dataset:"
   ]
  },
  {
   "cell_type": "code",
   "execution_count": 69,
   "metadata": {},
   "outputs": [
    {
     "name": "stdout",
     "output_type": "stream",
     "text": [
      "sigma_test = 0.00587\n",
      "E_test = 0.00009\n",
      "max loss=0.009749285876750946\n",
      "total volume=1.8238972425460815\n",
      "Normalised max=0.005358920898288488\n"
     ]
    }
   ],
   "source": [
    "sigma_test = cal_total_loss(test_set, mlg.loss.weighted_MAPE)\n",
    "E_test = cal_total_loss(test_set, mlg.loss.weighted_MSE)\n",
    "print(\"sigma_test = %.5f\" % sigma_test)\n",
    "print(\"E_test = %.5f\" % E_test)\n",
    "\n",
    "print(f'max loss={cal_max_loss(test_set)[0]}')\n",
    "print(f'total volume={cal_max_loss(test_set)[1]/(5*n_pairs)}')\n",
    "print(f'Normalised max={cal_max_loss(test_set)[0]/(cal_max_loss(test_set)[1]/(5*n_pairs))}')"
   ]
  },
  {
   "cell_type": "markdown",
   "metadata": {},
   "source": [
    "### $\\eta$ on the rational curve"
   ]
  },
  {
   "cell_type": "markdown",
   "metadata": {},
   "source": [
    "Now let's retrict our model to a subspace and check the local behavior of $\\eta$. With the quintic 3-fold f = 0, we can choose the embedding \n",
    "\n",
    "$$(z_0, -z_0, z_1, 0, -z_1),$$\n",
    "\n",
    "and the local coordinate system defined by $t = z_1 / z_0$. Using shperical coordinates $(\\theta, \\phi)$, it can be embedded into $\\mathbb{R}^3$ by:\n",
    "\n",
    "$$z_0 = \\sin \\theta \\cos \\phi, \\qquad z_1= \\sin \\theta \\sin \\phi + i \\cos \\phi$$\n",
    "\n",
    "So first sample the points on the rational curve:"
   ]
  },
  {
   "cell_type": "code",
   "execution_count": 70,
   "metadata": {},
   "outputs": [],
   "source": [
    "theta, phi = np.linspace(0.001,np.pi+0.001, 400), np.linspace(0.001, 2*np.pi+0.001, 400)\n",
    "eps = 0.0001 + 0.0001j\n",
    "\n",
    "R = []\n",
    "points_list = []\n",
    "for j in phi:\n",
    "    for i in theta:\n",
    "        t = complex(math.sin(i)*math.sin(j), math.cos(i)) / (math.sin(i)*math.cos(j))\n",
    "        if np.absolute(t) <= 1:\n",
    "            # The Bihomogeneous layer will remove the zero entries automatically.\n",
    "            # So here we add a small number eps to avoid being removed\n",
    "            points_list.append([1+eps, -1+eps, t+eps, 0+eps, -t+eps])\n",
    "        else:\n",
    "            # Use the symmetry:\n",
    "            points_list.append([1+eps, -1+eps, 1/t+eps, 0+eps, -1/t+eps])"
   ]
  },
  {
   "cell_type": "markdown",
   "metadata": {},
   "source": [
    "Use this set of points to generate the rational curve with norm_coordinate = z0 and max_grad_coordinate = z1:"
   ]
  },
  {
   "cell_type": "code",
   "execution_count": 71,
   "metadata": {},
   "outputs": [],
   "source": [
    "rc = mlg.hypersurface.Hypersurface(Z, f, points=points_list, norm_coordinate=0, max_grad_coordinate=0)\n",
    "rc_dataset = mlg.tf_dataset.generate_dataset(rc).batch(rc.n_points)"
   ]
  },
  {
   "cell_type": "markdown",
   "metadata": {},
   "source": [
    "Calculate $\\eta$:"
   ]
  },
  {
   "cell_type": "code",
   "execution_count": 72,
   "metadata": {},
   "outputs": [],
   "source": [
    "points, Omega_Omegabar, mass, restriction = next(iter(rc_dataset))\n",
    "det_omega = volume_form(points, Omega_Omegabar, mass, restriction)\n",
    "eta = (det_omega / Omega_Omegabar).numpy()"
   ]
  },
  {
   "cell_type": "markdown",
   "metadata": {},
   "source": [
    "Convert to Cartesian coordinates:"
   ]
  },
  {
   "cell_type": "code",
   "execution_count": 73,
   "metadata": {},
   "outputs": [],
   "source": [
    "R = eta.reshape(400, 400)\n",
    "THETA, PHI = np.meshgrid(theta, phi)\n",
    "X = R * np.sin(THETA) * np.cos(PHI)\n",
    "Y = R * np.sin(THETA) * np.sin(PHI)\n",
    "ZZ = R * np.cos(THETA)"
   ]
  },
  {
   "cell_type": "markdown",
   "metadata": {},
   "source": [
    "Plot the figure:"
   ]
  },
  {
   "cell_type": "code",
   "execution_count": 74,
   "metadata": {},
   "outputs": [
    {
     "data": {
      "text/plain": "<Figure size 640x480 with 1 Axes>",
      "image/png": "[encoded data removed]"
     },
     "metadata": {},
     "output_type": "display_data"
    }
   ],
   "source": [
    "fig = plt.figure()\n",
    "ax = fig.add_subplot(1,1,1, projection='3d')\n",
    "ax.set_zlim3d(-1.0, 1.0)\n",
    "plot = ax.plot_surface(\n",
    "    X, Y, ZZ, rstride=1, cstride=1, cmap=plt.cm.YlGnBu_r,\n",
    "    linewidth=0, antialiased=False)"
   ]
  },
  {
   "cell_type": "markdown",
   "metadata": {},
   "source": [
    "$\\eta$ is expected to approach the constant function 1 as k increases."
   ]
  }
 ],
 "metadata": {
  "kernelspec": {
   "display_name": "Python 3 (ipykernel)",
   "language": "python",
   "name": "python3"
  },
  "language_info": {
   "codemirror_mode": {
    "name": "ipython",
    "version": 3
   },
   "file_extension": ".py",
   "mimetype": "text/x-python",
   "name": "python",
   "nbconvert_exporter": "python",
   "pygments_lexer": "ipython3",
   "version": "3.10.6"
  }
 },
 "nbformat": 4,
 "nbformat_minor": 4
}
